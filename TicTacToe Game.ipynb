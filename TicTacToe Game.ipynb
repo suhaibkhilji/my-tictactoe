{
 "cells": [
  {
   "cell_type": "markdown",
   "metadata": {},
   "source": [
    "----------------- Suhaib Faiz Khilji \n",
    "------- Tic Tac Toe\n",
    "------on \n",
    "-----Python\n"
   ]
  },
  {
   "cell_type": "markdown",
   "metadata": {},
   "source": [
    "# Milestone Project 1: Walkthrough Steps Workbook\n",
    "\n",
    "Below is a set of steps for you to follow to try to create the Tic Tac Toe Milestone Project game!"
   ]
  },
  {
   "cell_type": "markdown",
   "metadata": {},
   "source": [
    "#### Some suggested tools before you get started:\n",
    "To take input from a user:\n",
    "\n",
    "    player1 = input(\"Please pick a marker 'X' or 'O'\")\n",
    "    \n",
    "Note that input() takes in a string. If you need an integer value, use\n",
    "\n",
    "    position = int(input('Please enter a number'))\n",
    "    \n",
    "<br>To clear the screen between moves:\n",
    "\n",
    "    from IPython.display import clear_output\n",
    "    clear_output()\n",
    "    \n",
    "Note that clear_output() will only work in jupyter. To clear the screen in other IDEs, consider:\n",
    "\n",
    "    print('\\n'*100)\n",
    "    \n",
    "This scrolls the previous board up out of view. Now on to the program!"
   ]
  },
  {
   "cell_type": "markdown",
   "metadata": {},
   "source": [
    "**Step 1: Write a function that can print out a board. Set up your board as a list, where each index 1-9 corresponds with a number on a number pad, so you get a 3 by 3 board representation.**"
   ]
  },
  {
   "cell_type": "code",
   "execution_count": 1,
   "metadata": {},
   "outputs": [
    {
     "name": "stdout",
     "output_type": "stream",
     "text": [
      "  |   |  \n",
      "X | O | X\n",
      "  |   |  \n",
      "----------\n",
      "  |   |  \n",
      "O | X | O\n",
      "  |   |  \n",
      "----------\n",
      "  |   |  \n",
      "X | O | X\n",
      "  |   |  \n"
     ]
    }
   ],
   "source": [
    "from IPython.display import clear_output\n",
    "\n",
    "def display_board(board):\n",
    "    clear_output()\n",
    "    print ('  | ' +'  |  ')\n",
    "    print (board[7]+' | '+ board[8] +' | '+ board[9])\n",
    "    print ('  | ' +'  |  ')\n",
    "    print ('----------')\n",
    "    print ('  | ' +'  |  ')\n",
    "    print (board[4]+' | '+ board[5] +' | '+ board[6])\n",
    "    print ('  | ' +'  |  ')\n",
    "    print ('----------')\n",
    "    print ('  | ' +'  |  ')\n",
    "    print (board[1]+' | '+ board[2] +' | '+ board[3])\n",
    "    print ('  | ' +'  |  ')\n",
    "    \n",
    "board= [' ']*10    \n",
    "board = ['#','X','O','X','O','X','O','X','O','X']\n",
    "display_board(board)\n"
   ]
  },
  {
   "cell_type": "markdown",
   "metadata": {},
   "source": [
    "**TEST Step 1:** run your function on a test version of the board list, and make adjustments as necessary"
   ]
  },
  {
   "cell_type": "code",
   "execution_count": 221,
   "metadata": {},
   "outputs": [
    {
     "name": "stdout",
     "output_type": "stream",
     "text": [
      "  |   |  \n",
      "-----\n",
      "  |   |  \n",
      "-----\n",
      "  |   |  \n"
     ]
    }
   ],
   "source": [
    "    \n"
   ]
  },
  {
   "cell_type": "code",
   "execution_count": 2,
   "metadata": {},
   "outputs": [
    {
     "name": "stdout",
     "output_type": "stream",
     "text": [
      "  |   |  \n",
      "  |   |  \n",
      "  |   |  \n",
      "----------\n",
      "  |   |  \n",
      "  |   |  \n",
      "  |   |  \n",
      "----------\n",
      "  |   |  \n",
      "  |   |  \n",
      "  |   |  \n"
     ]
    }
   ],
   "source": [
    "board= ['#'] + [' ']*10    \n",
    "\n",
    "#test_\n",
    "display_board(board)"
   ]
  },
  {
   "cell_type": "markdown",
   "metadata": {},
   "source": [
    "**Step 2: Write a function that can take in a player input and assign their marker as 'X' or 'O'. Think about using *while* loops to continually ask until you get a correct answer.**"
   ]
  },
  {
   "cell_type": "code",
   "execution_count": 3,
   "metadata": {},
   "outputs": [],
   "source": [
    "def player_input():\n",
    "    option_selected = False\n",
    "    while not (option_selected == 'X' or option_selected=='O'):\n",
    "        option_selected = input(\"select your marker X or O \").upper()\n",
    "        \n",
    "    if option_selected == 'X':\n",
    "        return ('X','O')\n",
    "    else: \n",
    "        return ('O','X')\n",
    "    "
   ]
  },
  {
   "cell_type": "markdown",
   "metadata": {},
   "source": [
    "**TEST Step 2:** run the function to make sure it returns the desired output"
   ]
  },
  {
   "cell_type": "code",
   "execution_count": 4,
   "metadata": {},
   "outputs": [
    {
     "name": "stdout",
     "output_type": "stream",
     "text": [
      "select your marker X or O 0\n",
      "select your marker X or O o\n"
     ]
    },
    {
     "data": {
      "text/plain": [
       "('O', 'X')"
      ]
     },
     "execution_count": 4,
     "metadata": {},
     "output_type": "execute_result"
    }
   ],
   "source": [
    "player_input()"
   ]
  },
  {
   "cell_type": "markdown",
   "metadata": {},
   "source": [
    "**Step 3: Write a function that takes in the board list object, a marker ('X' or 'O'), and a desired position (number 1-9) and assigns it to the board.**"
   ]
  },
  {
   "cell_type": "code",
   "execution_count": 5,
   "metadata": {},
   "outputs": [],
   "source": [
    "def place_marker(board, marker, position):\n",
    "    board[position]= marker"
   ]
  },
  {
   "cell_type": "markdown",
   "metadata": {},
   "source": [
    "**TEST Step 3:** run the place marker function using test parameters and display the modified board"
   ]
  },
  {
   "cell_type": "code",
   "execution_count": 77,
   "metadata": {},
   "outputs": [
    {
     "name": "stdout",
     "output_type": "stream",
     "text": [
      " |$| \n",
      "-----\n",
      " | | \n",
      "-----\n",
      " | | \n"
     ]
    }
   ],
   "source": [
    "place_marker(board,'$',8)\n",
    "display_board(board)"
   ]
  },
  {
   "cell_type": "markdown",
   "metadata": {},
   "source": [
    "**Step 4: Write a function that takes in a board and a mark (X or O) and then checks to see if that mark has won. **"
   ]
  },
  {
   "cell_type": "code",
   "execution_count": 6,
   "metadata": {},
   "outputs": [],
   "source": [
    "def win_check(board, mark):\n",
    "    return ((board[1]==board[2]==board[3]==mark) or \n",
    "    (board[4]==board[5]==board[6]==mark) or\n",
    "    (board[7]==board[8]==board[9]==mark) or\n",
    "    (board[1]==board[4]==board[7]==mark) or\n",
    "    (board[8]==board[5]==board[2]==mark) or\n",
    "    (board[9]==board[6]==board[3]==mark) or\n",
    "    (board[7]==board[5]==board[3]==mark) or\n",
    "    (board[9]==board[5]==board[1]==mark))\n",
    "    "
   ]
  },
  {
   "cell_type": "markdown",
   "metadata": {},
   "source": [
    "**TEST Step 4:** run the win_check function against our test_board - it should return True"
   ]
  },
  {
   "cell_type": "code",
   "execution_count": 7,
   "metadata": {},
   "outputs": [
    {
     "name": "stdout",
     "output_type": "stream",
     "text": [
      "  |   |  \n",
      "  |   |  \n",
      "  |   |  \n",
      "----------\n",
      "  |   |  \n",
      "  |   |  \n",
      "  |   |  \n",
      "----------\n",
      "  |   |  \n",
      "  |   |  \n",
      "  |   |  \n",
      "['#', 'X', 'X', 'X', ' ', ' ', ' ', ' ', ' ', ' ', ' ']\n"
     ]
    }
   ],
   "source": [
    "display_board(board)\n",
    "place_marker(board,'X',3)\n",
    "place_marker(board,'X',2)\n",
    "place_marker(board,'X',1)\n",
    "win_check(board,'X')\n",
    "print (board)"
   ]
  },
  {
   "cell_type": "markdown",
   "metadata": {},
   "source": [
    "**Step 5: Write a function that uses the random module to randomly decide which player goes first. You may want to lookup random.randint() Return a string of which player went first.**"
   ]
  },
  {
   "cell_type": "code",
   "execution_count": 8,
   "metadata": {},
   "outputs": [
    {
     "data": {
      "text/plain": [
       "'Player 2'"
      ]
     },
     "execution_count": 8,
     "metadata": {},
     "output_type": "execute_result"
    }
   ],
   "source": [
    "import random\n",
    "\n",
    "def choose_first():\n",
    "    coin=0\n",
    "    coin= random.randint(1,2)\n",
    "    if coin==1: \n",
    "        return 'Player 1'\n",
    "    else: \n",
    "        return 'Player 2'\n",
    "choose_first()"
   ]
  },
  {
   "cell_type": "markdown",
   "metadata": {},
   "source": [
    "**Step 6: Write a function that returns a boolean indicating whether a space on the board is freely available.**"
   ]
  },
  {
   "cell_type": "code",
   "execution_count": 9,
   "metadata": {},
   "outputs": [],
   "source": [
    "def space_check(board, position):\n",
    "    if position in range (1,10):\n",
    "        return board[position]==' '\n",
    "    else: \n",
    "        return False"
   ]
  },
  {
   "cell_type": "markdown",
   "metadata": {},
   "source": [
    "**Step 7: Write a function that checks if the board is full and returns a boolean value. True if full, False otherwise.**"
   ]
  },
  {
   "cell_type": "code",
   "execution_count": 10,
   "metadata": {},
   "outputs": [],
   "source": [
    "def full_board_check(board):\n",
    "    if ' ' not in board:\n",
    "        print('Board is full, better luck next time')\n",
    "        return True\n",
    "    else: \n",
    "        print (' There are open spaces')\n",
    "        return False\n",
    "    \n"
   ]
  },
  {
   "cell_type": "markdown",
   "metadata": {},
   "source": [
    "**Step 8: Write a function that asks for a player's next position (as a number 1-9) and then uses the function from step 6 to check if it's a free position. If it is, then return the position for later use.**"
   ]
  },
  {
   "cell_type": "code",
   "execution_count": 11,
   "metadata": {},
   "outputs": [],
   "source": [
    "def player_choice(board):\n",
    "    valid_choice = 0\n",
    "    position = int(input (\" In which position do you want to place your marker \"))\n",
    "    valid_choice = space_check(board, position)\n",
    "    \n",
    "    while not valid_choice: \n",
    "        position = int(input (\"Select an empty space\"))\n",
    "        valid_choice = space_check(board, position)\n",
    "    return position\n",
    "    \n",
    "#position = player_choice(board)\n",
    "#print (position)"
   ]
  },
  {
   "cell_type": "markdown",
   "metadata": {},
   "source": [
    "**Step 9: Write a function that asks the player if they want to play again and returns a boolean True if they do want to play again.**"
   ]
  },
  {
   "cell_type": "code",
   "execution_count": 12,
   "metadata": {},
   "outputs": [],
   "source": [
    "def replay():\n",
    "    restart = input('Do you want to play (Y/N)').upper()\n",
    "    while restart not in ('Y', 'N'):\n",
    "        restart = input('Select a correct input Y or N. \\nDo you want to play').upper()\n",
    "    if restart =='Y':\n",
    "        print ('Seems you love it')\n",
    "        board = ['#'] + [' ']*10\n",
    "        return restart =='Y'\n",
    "    else: \n",
    "        print ('Thank you for playing. Have a good day')\n",
    "        return False\n",
    "    \n",
    "    \n",
    "    pass"
   ]
  },
  {
   "cell_type": "markdown",
   "metadata": {
    "collapsed": true
   },
   "source": [
    "**Step 10: Here comes the hard part! Use while loops and the functions you've made to run the game!**"
   ]
  },
  {
   "cell_type": "code",
   "execution_count": null,
   "metadata": {},
   "outputs": [],
   "source": []
  },
  {
   "cell_type": "code",
   "execution_count": 13,
   "metadata": {},
   "outputs": [
    {
     "name": "stdout",
     "output_type": "stream",
     "text": [
      "  |   |  \n",
      "O |   | O\n",
      "  |   |  \n",
      "----------\n",
      "  |   |  \n",
      "O | X | X\n",
      "  |   |  \n",
      "----------\n",
      "  |   |  \n",
      "O |   | X\n",
      "  |   |  \n",
      "Congratulation \n",
      "Do you want to play (Y/N)n\n",
      "Thank you for playing. Have a good day\n"
     ]
    }
   ],
   "source": [
    "print('Welcome to Tic Tac Toe!')\n",
    "board = ['#']+[' ']*9\n",
    "\n",
    "\n",
    "Player1_name = input('Enter Player 1 name: ')\n",
    "Player2_name = input('Enter Player 2 name: ')\n",
    "\n",
    "while True:\n",
    "    turn = choose_first()\n",
    "    if turn == 'Player 1':\n",
    "        print ('Coin Toss: '+ Player1_name + ' will go first')\n",
    "    else: \n",
    "        print ('Coin Toss: '+ Player2_name + ' will go first')\n",
    "    print ('{} '.format(Player1_name))\n",
    "    player1_marker,player2_marker = player_input() \n",
    "    \n",
    "    \n",
    "    while not full_board_check(board):\n",
    "        \n",
    "        if turn =='Player 1': \n",
    "            if full_board_check(board): \n",
    "                break\n",
    "            display_board(board) \n",
    "            print('{} turn'.format(Player1_name))\n",
    "            position = player_choice(board)\n",
    "            place_marker(board, player1_marker, position)\n",
    "                        \n",
    "            if win_check(board,player1_marker):\n",
    "                display_board(board)\n",
    "                print (\"Congratulation {}\".format(Player1_name))\n",
    "                break\n",
    "            else:\n",
    "                turn = 'Player 2'\n",
    "                \n",
    "        elif turn =='Player 2':\n",
    "            if full_board_check(board): \n",
    "                break\n",
    "            display_board(board) \n",
    "            print('{} turn'.format(Player2_name))\n",
    "            position = player_choice(board)\n",
    "            place_marker(board, player2_marker, position)\n",
    "            \n",
    "            if win_check(board,player2_marker):\n",
    "                display_board(board)\n",
    "                print (\"Congratulation {}\".format(Player2_name))\n",
    "                break\n",
    "            else: \n",
    "                turn = 'Player 1'\n",
    "        \n",
    "       \n",
    "    if not replay():       \n",
    "        break        \n",
    "    else: \n",
    "        board= ['#'] + [' ']*10 \n",
    "        display_board(board)    \n",
    "        \n",
    "    \n",
    "#while True:\n",
    "    # Set the game up here\n",
    "    #pass\n",
    "\n",
    "    #while game_on:\n",
    "        #Player 1 Turn\n",
    "        \n",
    "        \n",
    "        # Player2's turn.\n",
    "            \n",
    "            #pass\n",
    "\n",
    "    #if not replay():\n",
    "        #break"
   ]
  },
  {
   "cell_type": "markdown",
   "metadata": {
    "collapsed": true
   },
   "source": [
    "## Good Job!"
   ]
  },
  {
   "cell_type": "code",
   "execution_count": null,
   "metadata": {},
   "outputs": [],
   "source": []
  }
 ],
 "metadata": {
  "kernelspec": {
   "display_name": "Python 3",
   "language": "python",
   "name": "python3"
  },
  "language_info": {
   "codemirror_mode": {
    "name": "ipython",
    "version": 3
   },
   "file_extension": ".py",
   "mimetype": "text/x-python",
   "name": "python",
   "nbconvert_exporter": "python",
   "pygments_lexer": "ipython3",
   "version": "3.8.5"
  }
 },
 "nbformat": 4,
 "nbformat_minor": 1
}
